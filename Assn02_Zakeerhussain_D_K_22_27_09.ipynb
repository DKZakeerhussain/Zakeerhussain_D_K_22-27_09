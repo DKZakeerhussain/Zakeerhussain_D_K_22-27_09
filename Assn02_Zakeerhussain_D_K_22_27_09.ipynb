{
  "cells": [
    {
      "cell_type": "markdown",
      "source": [
        "ASSSIGNMENT NO - 02\n",
        "\n",
        "Name - ZAKEERHUSSAIN.D.K\n",
        "\n",
        "REG.NO- 22-27-09\n",
        "\n",
        "BRANCH - DATA SCIENCE"
      ],
      "metadata": {
        "id": "M674aWe_-Rmu"
      },
      "id": "M674aWe_-Rmu"
    },
    {
      "cell_type": "code",
      "execution_count": null,
      "id": "2364624b",
      "metadata": {
        "id": "2364624b"
      },
      "outputs": [],
      "source": [
        "#Importing the Libraries\n",
        "import pandas as pd\n",
        "import numpy as np"
      ]
    },
    {
      "cell_type": "markdown",
      "id": "8b46e68d",
      "metadata": {
        "id": "8b46e68d"
      },
      "source": [
        "1.Read the housingdata.csv file into pandas DataFrame and display first six rows of the DataFrame"
      ]
    },
    {
      "cell_type": "code",
      "execution_count": null,
      "id": "a9ca1908",
      "metadata": {
        "id": "a9ca1908"
      },
      "outputs": [],
      "source": [
        "df = pd.read_csv(r\"E:\\2nd SEM\\DSST\\housingdata.csv\")"
      ]
    },
    {
      "cell_type": "code",
      "execution_count": null,
      "id": "86f212c4",
      "metadata": {
        "id": "86f212c4",
        "outputId": "3fd7b8c6-0857-42db-f707-d83e75b1f0d9"
      },
      "outputs": [
        {
          "data": {
            "text/html": [
              "<div>\n",
              "<style scoped>\n",
              "    .dataframe tbody tr th:only-of-type {\n",
              "        vertical-align: middle;\n",
              "    }\n",
              "\n",
              "    .dataframe tbody tr th {\n",
              "        vertical-align: top;\n",
              "    }\n",
              "\n",
              "    .dataframe thead th {\n",
              "        text-align: right;\n",
              "    }\n",
              "</style>\n",
              "<table border=\"1\" class=\"dataframe\">\n",
              "  <thead>\n",
              "    <tr style=\"text-align: right;\">\n",
              "      <th></th>\n",
              "      <th>PID</th>\n",
              "      <th>STATE</th>\n",
              "      <th>PRICE</th>\n",
              "      <th>NUM_BEDROOMS</th>\n",
              "      <th>NUM_BATH</th>\n",
              "      <th>SQ_FT</th>\n",
              "    </tr>\n",
              "  </thead>\n",
              "  <tbody>\n",
              "    <tr>\n",
              "      <th>0</th>\n",
              "      <td>100001000.0</td>\n",
              "      <td>MP</td>\n",
              "      <td>321654</td>\n",
              "      <td>3</td>\n",
              "      <td>1</td>\n",
              "      <td>1000</td>\n",
              "    </tr>\n",
              "    <tr>\n",
              "      <th>1</th>\n",
              "      <td>100002000.0</td>\n",
              "      <td>MAHARASHTRA</td>\n",
              "      <td>21325</td>\n",
              "      <td>3</td>\n",
              "      <td>1.5</td>\n",
              "      <td>--</td>\n",
              "    </tr>\n",
              "    <tr>\n",
              "      <th>2</th>\n",
              "      <td>100003000.0</td>\n",
              "      <td>AP</td>\n",
              "      <td>2541654</td>\n",
              "      <td>NaN</td>\n",
              "      <td>1</td>\n",
              "      <td>850</td>\n",
              "    </tr>\n",
              "    <tr>\n",
              "      <th>3</th>\n",
              "      <td>100004000.0</td>\n",
              "      <td>TN</td>\n",
              "      <td>321321</td>\n",
              "      <td>1</td>\n",
              "      <td>NaN</td>\n",
              "      <td>700</td>\n",
              "    </tr>\n",
              "    <tr>\n",
              "      <th>4</th>\n",
              "      <td>NaN</td>\n",
              "      <td>TN</td>\n",
              "      <td>589465645</td>\n",
              "      <td>3</td>\n",
              "      <td>2</td>\n",
              "      <td>1600</td>\n",
              "    </tr>\n",
              "    <tr>\n",
              "      <th>5</th>\n",
              "      <td>100006000.0</td>\n",
              "      <td>TN</td>\n",
              "      <td>65465466</td>\n",
              "      <td>NaN</td>\n",
              "      <td>1</td>\n",
              "      <td>800</td>\n",
              "    </tr>\n",
              "  </tbody>\n",
              "</table>\n",
              "</div>"
            ],
            "text/plain": [
              "           PID        STATE      PRICE NUM_BEDROOMS NUM_BATH SQ_FT\n",
              "0  100001000.0           MP     321654            3        1  1000\n",
              "1  100002000.0  MAHARASHTRA      21325            3      1.5    --\n",
              "2  100003000.0           AP    2541654          NaN        1   850\n",
              "3  100004000.0           TN     321321            1      NaN   700\n",
              "4          NaN           TN  589465645            3        2  1600\n",
              "5  100006000.0           TN   65465466          NaN        1   800"
            ]
          },
          "execution_count": 3,
          "metadata": {},
          "output_type": "execute_result"
        }
      ],
      "source": [
        "df.head(6)"
      ]
    },
    {
      "cell_type": "markdown",
      "id": "83b91063",
      "metadata": {
        "id": "83b91063"
      },
      "source": [
        "2.Display the column names and row index in separate cells."
      ]
    },
    {
      "cell_type": "code",
      "execution_count": null,
      "id": "03aaf033",
      "metadata": {
        "id": "03aaf033",
        "outputId": "e49d9373-556a-4865-e4bb-185071279bc6"
      },
      "outputs": [
        {
          "data": {
            "text/plain": [
              "Index(['PID', 'STATE', 'PRICE', 'NUM_BEDROOMS', 'NUM_BATH', 'SQ_FT'], dtype='object')"
            ]
          },
          "execution_count": 4,
          "metadata": {},
          "output_type": "execute_result"
        }
      ],
      "source": [
        "df.columns"
      ]
    },
    {
      "cell_type": "markdown",
      "id": "9c1ac5ba",
      "metadata": {
        "id": "9c1ac5ba"
      },
      "source": [
        "3.a) How many numbers of “STATE” exist in the dataset."
      ]
    },
    {
      "cell_type": "code",
      "execution_count": null,
      "id": "4cfb897d",
      "metadata": {
        "id": "4cfb897d",
        "outputId": "beff655b-f86f-4e08-e09c-6c9ac2a297d3"
      },
      "outputs": [
        {
          "name": "stdout",
          "output_type": "stream",
          "text": [
            "Number of states : 9\n"
          ]
        }
      ],
      "source": [
        "\n",
        "num_rows,num_columns = df.shape\n",
        "\n",
        "print(\"Number of states :\" , num_rows)"
      ]
    },
    {
      "cell_type": "markdown",
      "id": "f35d19ad",
      "metadata": {
        "id": "f35d19ad"
      },
      "source": [
        "3.b) How many unique states exist in the dataset"
      ]
    },
    {
      "cell_type": "code",
      "execution_count": null,
      "id": "fb988c57",
      "metadata": {
        "id": "fb988c57",
        "outputId": "7da85cf9-8ff6-46a6-ec8e-5f17abac5417"
      },
      "outputs": [
        {
          "name": "stdout",
          "output_type": "stream",
          "text": [
            "Number of Unique states : 6\n"
          ]
        }
      ],
      "source": [
        "\n",
        "Unique_states = df['STATE'].nunique()\n",
        "\n",
        "print(\"Number of Unique states :\" , Unique_states)"
      ]
    },
    {
      "cell_type": "markdown",
      "id": "6bdad501",
      "metadata": {
        "id": "6bdad501"
      },
      "source": [
        "4.Retrieve the list of all NaN/Null/Empty cells in the form of Boolean list"
      ]
    },
    {
      "cell_type": "code",
      "execution_count": null,
      "id": "22f45758",
      "metadata": {
        "id": "22f45758",
        "outputId": "583a4f00-38e2-4808-fbfc-f83601285f7c"
      },
      "outputs": [
        {
          "data": {
            "text/html": [
              "<div>\n",
              "<style scoped>\n",
              "    .dataframe tbody tr th:only-of-type {\n",
              "        vertical-align: middle;\n",
              "    }\n",
              "\n",
              "    .dataframe tbody tr th {\n",
              "        vertical-align: top;\n",
              "    }\n",
              "\n",
              "    .dataframe thead th {\n",
              "        text-align: right;\n",
              "    }\n",
              "</style>\n",
              "<table border=\"1\" class=\"dataframe\">\n",
              "  <thead>\n",
              "    <tr style=\"text-align: right;\">\n",
              "      <th></th>\n",
              "      <th>PID</th>\n",
              "      <th>STATE</th>\n",
              "      <th>PRICE</th>\n",
              "      <th>NUM_BEDROOMS</th>\n",
              "      <th>NUM_BATH</th>\n",
              "      <th>SQ_FT</th>\n",
              "    </tr>\n",
              "  </thead>\n",
              "  <tbody>\n",
              "    <tr>\n",
              "      <th>0</th>\n",
              "      <td>False</td>\n",
              "      <td>False</td>\n",
              "      <td>False</td>\n",
              "      <td>False</td>\n",
              "      <td>False</td>\n",
              "      <td>False</td>\n",
              "    </tr>\n",
              "    <tr>\n",
              "      <th>1</th>\n",
              "      <td>False</td>\n",
              "      <td>False</td>\n",
              "      <td>False</td>\n",
              "      <td>False</td>\n",
              "      <td>False</td>\n",
              "      <td>False</td>\n",
              "    </tr>\n",
              "    <tr>\n",
              "      <th>2</th>\n",
              "      <td>False</td>\n",
              "      <td>False</td>\n",
              "      <td>False</td>\n",
              "      <td>True</td>\n",
              "      <td>False</td>\n",
              "      <td>False</td>\n",
              "    </tr>\n",
              "    <tr>\n",
              "      <th>3</th>\n",
              "      <td>False</td>\n",
              "      <td>False</td>\n",
              "      <td>False</td>\n",
              "      <td>False</td>\n",
              "      <td>True</td>\n",
              "      <td>False</td>\n",
              "    </tr>\n",
              "    <tr>\n",
              "      <th>4</th>\n",
              "      <td>True</td>\n",
              "      <td>False</td>\n",
              "      <td>False</td>\n",
              "      <td>False</td>\n",
              "      <td>False</td>\n",
              "      <td>False</td>\n",
              "    </tr>\n",
              "    <tr>\n",
              "      <th>5</th>\n",
              "      <td>False</td>\n",
              "      <td>False</td>\n",
              "      <td>False</td>\n",
              "      <td>True</td>\n",
              "      <td>False</td>\n",
              "      <td>False</td>\n",
              "    </tr>\n",
              "    <tr>\n",
              "      <th>6</th>\n",
              "      <td>False</td>\n",
              "      <td>False</td>\n",
              "      <td>False</td>\n",
              "      <td>False</td>\n",
              "      <td>False</td>\n",
              "      <td>False</td>\n",
              "    </tr>\n",
              "    <tr>\n",
              "      <th>7</th>\n",
              "      <td>False</td>\n",
              "      <td>False</td>\n",
              "      <td>False</td>\n",
              "      <td>False</td>\n",
              "      <td>False</td>\n",
              "      <td>True</td>\n",
              "    </tr>\n",
              "    <tr>\n",
              "      <th>8</th>\n",
              "      <td>False</td>\n",
              "      <td>False</td>\n",
              "      <td>False</td>\n",
              "      <td>False</td>\n",
              "      <td>False</td>\n",
              "      <td>False</td>\n",
              "    </tr>\n",
              "  </tbody>\n",
              "</table>\n",
              "</div>"
            ],
            "text/plain": [
              "     PID  STATE  PRICE  NUM_BEDROOMS  NUM_BATH  SQ_FT\n",
              "0  False  False  False         False     False  False\n",
              "1  False  False  False         False     False  False\n",
              "2  False  False  False          True     False  False\n",
              "3  False  False  False         False      True  False\n",
              "4   True  False  False         False     False  False\n",
              "5  False  False  False          True     False  False\n",
              "6  False  False  False         False     False  False\n",
              "7  False  False  False         False     False   True\n",
              "8  False  False  False         False     False  False"
            ]
          },
          "execution_count": 7,
          "metadata": {},
          "output_type": "execute_result"
        }
      ],
      "source": [
        "\n",
        "\n",
        "df.isnull()"
      ]
    },
    {
      "cell_type": "code",
      "execution_count": null,
      "id": "29944bfe",
      "metadata": {
        "id": "29944bfe"
      },
      "outputs": [],
      "source": [
        "df.replace('na',np.NaN, inplace=True)"
      ]
    },
    {
      "cell_type": "markdown",
      "id": "cb141872",
      "metadata": {
        "id": "cb141872"
      },
      "source": [
        "5.Drop all rows with N/A,NA,na values in Num_Bedrooms"
      ]
    },
    {
      "cell_type": "code",
      "execution_count": null,
      "id": "5069d425",
      "metadata": {
        "id": "5069d425",
        "outputId": "699db975-d388-45f1-e2b3-41cf20739021"
      },
      "outputs": [
        {
          "data": {
            "text/html": [
              "<div>\n",
              "<style scoped>\n",
              "    .dataframe tbody tr th:only-of-type {\n",
              "        vertical-align: middle;\n",
              "    }\n",
              "\n",
              "    .dataframe tbody tr th {\n",
              "        vertical-align: top;\n",
              "    }\n",
              "\n",
              "    .dataframe thead th {\n",
              "        text-align: right;\n",
              "    }\n",
              "</style>\n",
              "<table border=\"1\" class=\"dataframe\">\n",
              "  <thead>\n",
              "    <tr style=\"text-align: right;\">\n",
              "      <th></th>\n",
              "      <th>PID</th>\n",
              "      <th>STATE</th>\n",
              "      <th>PRICE</th>\n",
              "      <th>NUM_BEDROOMS</th>\n",
              "      <th>NUM_BATH</th>\n",
              "      <th>SQ_FT</th>\n",
              "    </tr>\n",
              "  </thead>\n",
              "  <tbody>\n",
              "    <tr>\n",
              "      <th>0</th>\n",
              "      <td>100001000.0</td>\n",
              "      <td>MP</td>\n",
              "      <td>321654</td>\n",
              "      <td>3</td>\n",
              "      <td>1</td>\n",
              "      <td>1000</td>\n",
              "    </tr>\n",
              "    <tr>\n",
              "      <th>1</th>\n",
              "      <td>100002000.0</td>\n",
              "      <td>MAHARASHTRA</td>\n",
              "      <td>21325</td>\n",
              "      <td>3</td>\n",
              "      <td>1.5</td>\n",
              "      <td>--</td>\n",
              "    </tr>\n",
              "    <tr>\n",
              "      <th>3</th>\n",
              "      <td>100004000.0</td>\n",
              "      <td>TN</td>\n",
              "      <td>321321</td>\n",
              "      <td>1</td>\n",
              "      <td>NaN</td>\n",
              "      <td>700</td>\n",
              "    </tr>\n",
              "    <tr>\n",
              "      <th>4</th>\n",
              "      <td>NaN</td>\n",
              "      <td>TN</td>\n",
              "      <td>589465645</td>\n",
              "      <td>3</td>\n",
              "      <td>2</td>\n",
              "      <td>1600</td>\n",
              "    </tr>\n",
              "    <tr>\n",
              "      <th>6</th>\n",
              "      <td>100007000.0</td>\n",
              "      <td>ASSAM</td>\n",
              "      <td>3222321</td>\n",
              "      <td>2</td>\n",
              "      <td>HURLEY</td>\n",
              "      <td>950</td>\n",
              "    </tr>\n",
              "    <tr>\n",
              "      <th>7</th>\n",
              "      <td>100008000.0</td>\n",
              "      <td>HP</td>\n",
              "      <td>23131</td>\n",
              "      <td>1</td>\n",
              "      <td>1</td>\n",
              "      <td>NaN</td>\n",
              "    </tr>\n",
              "  </tbody>\n",
              "</table>\n",
              "</div>"
            ],
            "text/plain": [
              "           PID        STATE      PRICE NUM_BEDROOMS NUM_BATH SQ_FT\n",
              "0  100001000.0           MP     321654            3        1  1000\n",
              "1  100002000.0  MAHARASHTRA      21325            3      1.5    --\n",
              "3  100004000.0           TN     321321            1      NaN   700\n",
              "4          NaN           TN  589465645            3        2  1600\n",
              "6  100007000.0        ASSAM    3222321            2   HURLEY   950\n",
              "7  100008000.0           HP      23131            1        1   NaN"
            ]
          },
          "execution_count": 9,
          "metadata": {},
          "output_type": "execute_result"
        }
      ],
      "source": [
        "df.dropna(subset = ['NUM_BEDROOMS'] , inplace = True)\n",
        "df"
      ]
    },
    {
      "cell_type": "code",
      "execution_count": null,
      "id": "81a40244",
      "metadata": {
        "id": "81a40244",
        "outputId": "444f1700-0b6a-4c63-d297-a38a6f724e3f"
      },
      "outputs": [
        {
          "data": {
            "text/html": [
              "<div>\n",
              "<style scoped>\n",
              "    .dataframe tbody tr th:only-of-type {\n",
              "        vertical-align: middle;\n",
              "    }\n",
              "\n",
              "    .dataframe tbody tr th {\n",
              "        vertical-align: top;\n",
              "    }\n",
              "\n",
              "    .dataframe thead th {\n",
              "        text-align: right;\n",
              "    }\n",
              "</style>\n",
              "<table border=\"1\" class=\"dataframe\">\n",
              "  <thead>\n",
              "    <tr style=\"text-align: right;\">\n",
              "      <th></th>\n",
              "      <th>PID</th>\n",
              "      <th>STATE</th>\n",
              "      <th>PRICE</th>\n",
              "      <th>NUM_BEDROOMS</th>\n",
              "      <th>NUM_BATH</th>\n",
              "      <th>SQ_FT</th>\n",
              "    </tr>\n",
              "  </thead>\n",
              "  <tbody>\n",
              "    <tr>\n",
              "      <th>0</th>\n",
              "      <td>100001000.0</td>\n",
              "      <td>MP</td>\n",
              "      <td>321654</td>\n",
              "      <td>3</td>\n",
              "      <td>1</td>\n",
              "      <td>1000</td>\n",
              "    </tr>\n",
              "    <tr>\n",
              "      <th>1</th>\n",
              "      <td>100002000.0</td>\n",
              "      <td>MAHARASHTRA</td>\n",
              "      <td>21325</td>\n",
              "      <td>3</td>\n",
              "      <td>1.5</td>\n",
              "      <td>NaN</td>\n",
              "    </tr>\n",
              "    <tr>\n",
              "      <th>3</th>\n",
              "      <td>100004000.0</td>\n",
              "      <td>TN</td>\n",
              "      <td>321321</td>\n",
              "      <td>1</td>\n",
              "      <td>NaN</td>\n",
              "      <td>700</td>\n",
              "    </tr>\n",
              "    <tr>\n",
              "      <th>4</th>\n",
              "      <td>NaN</td>\n",
              "      <td>TN</td>\n",
              "      <td>589465645</td>\n",
              "      <td>3</td>\n",
              "      <td>2</td>\n",
              "      <td>1600</td>\n",
              "    </tr>\n",
              "    <tr>\n",
              "      <th>6</th>\n",
              "      <td>100007000.0</td>\n",
              "      <td>ASSAM</td>\n",
              "      <td>3222321</td>\n",
              "      <td>2</td>\n",
              "      <td>HURLEY</td>\n",
              "      <td>950</td>\n",
              "    </tr>\n",
              "    <tr>\n",
              "      <th>7</th>\n",
              "      <td>100008000.0</td>\n",
              "      <td>HP</td>\n",
              "      <td>23131</td>\n",
              "      <td>1</td>\n",
              "      <td>1</td>\n",
              "      <td>NaN</td>\n",
              "    </tr>\n",
              "  </tbody>\n",
              "</table>\n",
              "</div>"
            ],
            "text/plain": [
              "           PID        STATE      PRICE NUM_BEDROOMS NUM_BATH SQ_FT\n",
              "0  100001000.0           MP     321654            3        1  1000\n",
              "1  100002000.0  MAHARASHTRA      21325            3      1.5   NaN\n",
              "3  100004000.0           TN     321321            1      NaN   700\n",
              "4          NaN           TN  589465645            3        2  1600\n",
              "6  100007000.0        ASSAM    3222321            2   HURLEY   950\n",
              "7  100008000.0           HP      23131            1        1   NaN"
            ]
          },
          "execution_count": 10,
          "metadata": {},
          "output_type": "execute_result"
        }
      ],
      "source": [
        "df.replace('--',np.NaN, inplace=True)\n",
        "df"
      ]
    },
    {
      "cell_type": "markdown",
      "id": "8f1091ce",
      "metadata": {
        "id": "8f1091ce"
      },
      "source": [
        "6.Replace the NaN and String entries in Num_Bath with previous entry"
      ]
    },
    {
      "cell_type": "code",
      "execution_count": null,
      "id": "10e6a068",
      "metadata": {
        "id": "10e6a068",
        "outputId": "a24acc07-7128-4d4d-bfd0-ac876aa8ae4d"
      },
      "outputs": [
        {
          "name": "stdout",
          "output_type": "stream",
          "text": [
            "           PID        STATE      PRICE NUM_BEDROOMS  NUM_BATH SQ_FT\n",
            "0  100001000.0           MP     321654            3       1.0  1000\n",
            "1  100002000.0  MAHARASHTRA      21325            3       1.5   NaN\n",
            "3  100004000.0           TN     321321            1       1.5   700\n",
            "4          NaN           TN  589465645            3       2.0  1600\n",
            "6  100007000.0        ASSAM    3222321            2       2.0   950\n",
            "7  100008000.0           HP      23131            1       1.0   NaN\n"
          ]
        }
      ],
      "source": [
        "df['NUM_BATH'] = pd.to_numeric(df['NUM_BATH'], errors='coerce')\n",
        "\n",
        "# convert Num_Bath column to numeric datatype\n",
        "df['NUM_BATH'].fillna(method='ffill', inplace=True)\n",
        "\n",
        "print(df)"
      ]
    },
    {
      "cell_type": "markdown",
      "id": "49d435ac",
      "metadata": {
        "id": "49d435ac"
      },
      "source": [
        "7.Replace the empty values in “SQ_FT” with the mean of the all entries."
      ]
    },
    {
      "cell_type": "code",
      "execution_count": null,
      "id": "174dfeb0",
      "metadata": {
        "id": "174dfeb0",
        "outputId": "1bb2c43c-8171-4659-e0c0-17948eecdce5"
      },
      "outputs": [
        {
          "data": {
            "text/html": [
              "<div>\n",
              "<style scoped>\n",
              "    .dataframe tbody tr th:only-of-type {\n",
              "        vertical-align: middle;\n",
              "    }\n",
              "\n",
              "    .dataframe tbody tr th {\n",
              "        vertical-align: top;\n",
              "    }\n",
              "\n",
              "    .dataframe thead th {\n",
              "        text-align: right;\n",
              "    }\n",
              "</style>\n",
              "<table border=\"1\" class=\"dataframe\">\n",
              "  <thead>\n",
              "    <tr style=\"text-align: right;\">\n",
              "      <th></th>\n",
              "      <th>PID</th>\n",
              "      <th>STATE</th>\n",
              "      <th>PRICE</th>\n",
              "      <th>NUM_BEDROOMS</th>\n",
              "      <th>NUM_BATH</th>\n",
              "      <th>SQ_FT</th>\n",
              "    </tr>\n",
              "  </thead>\n",
              "  <tbody>\n",
              "    <tr>\n",
              "      <th>0</th>\n",
              "      <td>100001000.0</td>\n",
              "      <td>MP</td>\n",
              "      <td>321654</td>\n",
              "      <td>3</td>\n",
              "      <td>1.0</td>\n",
              "      <td>1000.0</td>\n",
              "    </tr>\n",
              "    <tr>\n",
              "      <th>1</th>\n",
              "      <td>100002000.0</td>\n",
              "      <td>MAHARASHTRA</td>\n",
              "      <td>21325</td>\n",
              "      <td>3</td>\n",
              "      <td>1.5</td>\n",
              "      <td>NaN</td>\n",
              "    </tr>\n",
              "    <tr>\n",
              "      <th>3</th>\n",
              "      <td>100004000.0</td>\n",
              "      <td>TN</td>\n",
              "      <td>321321</td>\n",
              "      <td>1</td>\n",
              "      <td>1.5</td>\n",
              "      <td>700.0</td>\n",
              "    </tr>\n",
              "    <tr>\n",
              "      <th>4</th>\n",
              "      <td>NaN</td>\n",
              "      <td>TN</td>\n",
              "      <td>589465645</td>\n",
              "      <td>3</td>\n",
              "      <td>2.0</td>\n",
              "      <td>1600.0</td>\n",
              "    </tr>\n",
              "    <tr>\n",
              "      <th>6</th>\n",
              "      <td>100007000.0</td>\n",
              "      <td>ASSAM</td>\n",
              "      <td>3222321</td>\n",
              "      <td>2</td>\n",
              "      <td>2.0</td>\n",
              "      <td>950.0</td>\n",
              "    </tr>\n",
              "    <tr>\n",
              "      <th>7</th>\n",
              "      <td>100008000.0</td>\n",
              "      <td>HP</td>\n",
              "      <td>23131</td>\n",
              "      <td>1</td>\n",
              "      <td>1.0</td>\n",
              "      <td>NaN</td>\n",
              "    </tr>\n",
              "  </tbody>\n",
              "</table>\n",
              "</div>"
            ],
            "text/plain": [
              "           PID        STATE      PRICE NUM_BEDROOMS  NUM_BATH   SQ_FT\n",
              "0  100001000.0           MP     321654            3       1.0  1000.0\n",
              "1  100002000.0  MAHARASHTRA      21325            3       1.5     NaN\n",
              "3  100004000.0           TN     321321            1       1.5   700.0\n",
              "4          NaN           TN  589465645            3       2.0  1600.0\n",
              "6  100007000.0        ASSAM    3222321            2       2.0   950.0\n",
              "7  100008000.0           HP      23131            1       1.0     NaN"
            ]
          },
          "execution_count": 12,
          "metadata": {},
          "output_type": "execute_result"
        }
      ],
      "source": [
        "df['SQ_FT']= df['SQ_FT'].astype('float')\n",
        "\n",
        "df"
      ]
    },
    {
      "cell_type": "code",
      "execution_count": null,
      "id": "6e80f50e",
      "metadata": {
        "id": "6e80f50e",
        "outputId": "68588888-0b75-4d69-b515-7e4aae4bea07"
      },
      "outputs": [
        {
          "data": {
            "text/html": [
              "<div>\n",
              "<style scoped>\n",
              "    .dataframe tbody tr th:only-of-type {\n",
              "        vertical-align: middle;\n",
              "    }\n",
              "\n",
              "    .dataframe tbody tr th {\n",
              "        vertical-align: top;\n",
              "    }\n",
              "\n",
              "    .dataframe thead th {\n",
              "        text-align: right;\n",
              "    }\n",
              "</style>\n",
              "<table border=\"1\" class=\"dataframe\">\n",
              "  <thead>\n",
              "    <tr style=\"text-align: right;\">\n",
              "      <th></th>\n",
              "      <th>PID</th>\n",
              "      <th>STATE</th>\n",
              "      <th>PRICE</th>\n",
              "      <th>NUM_BEDROOMS</th>\n",
              "      <th>NUM_BATH</th>\n",
              "      <th>SQ_FT</th>\n",
              "    </tr>\n",
              "  </thead>\n",
              "  <tbody>\n",
              "    <tr>\n",
              "      <th>0</th>\n",
              "      <td>100001000.0</td>\n",
              "      <td>MP</td>\n",
              "      <td>321654</td>\n",
              "      <td>3</td>\n",
              "      <td>1.0</td>\n",
              "      <td>1000.0</td>\n",
              "    </tr>\n",
              "    <tr>\n",
              "      <th>1</th>\n",
              "      <td>100002000.0</td>\n",
              "      <td>MAHARASHTRA</td>\n",
              "      <td>21325</td>\n",
              "      <td>3</td>\n",
              "      <td>1.5</td>\n",
              "      <td>1062.5</td>\n",
              "    </tr>\n",
              "    <tr>\n",
              "      <th>3</th>\n",
              "      <td>100004000.0</td>\n",
              "      <td>TN</td>\n",
              "      <td>321321</td>\n",
              "      <td>1</td>\n",
              "      <td>1.5</td>\n",
              "      <td>700.0</td>\n",
              "    </tr>\n",
              "    <tr>\n",
              "      <th>4</th>\n",
              "      <td>NaN</td>\n",
              "      <td>TN</td>\n",
              "      <td>589465645</td>\n",
              "      <td>3</td>\n",
              "      <td>2.0</td>\n",
              "      <td>1600.0</td>\n",
              "    </tr>\n",
              "    <tr>\n",
              "      <th>6</th>\n",
              "      <td>100007000.0</td>\n",
              "      <td>ASSAM</td>\n",
              "      <td>3222321</td>\n",
              "      <td>2</td>\n",
              "      <td>2.0</td>\n",
              "      <td>950.0</td>\n",
              "    </tr>\n",
              "    <tr>\n",
              "      <th>7</th>\n",
              "      <td>100008000.0</td>\n",
              "      <td>HP</td>\n",
              "      <td>23131</td>\n",
              "      <td>1</td>\n",
              "      <td>1.0</td>\n",
              "      <td>1062.5</td>\n",
              "    </tr>\n",
              "  </tbody>\n",
              "</table>\n",
              "</div>"
            ],
            "text/plain": [
              "           PID        STATE      PRICE NUM_BEDROOMS  NUM_BATH   SQ_FT\n",
              "0  100001000.0           MP     321654            3       1.0  1000.0\n",
              "1  100002000.0  MAHARASHTRA      21325            3       1.5  1062.5\n",
              "3  100004000.0           TN     321321            1       1.5   700.0\n",
              "4          NaN           TN  589465645            3       2.0  1600.0\n",
              "6  100007000.0        ASSAM    3222321            2       2.0   950.0\n",
              "7  100008000.0           HP      23131            1       1.0  1062.5"
            ]
          },
          "execution_count": 13,
          "metadata": {},
          "output_type": "execute_result"
        }
      ],
      "source": [
        "mean = df['SQ_FT'].mean()\n",
        "\n",
        "df['SQ_FT'].fillna(mean, inplace=True)\n",
        "\n",
        "df"
      ]
    },
    {
      "cell_type": "markdown",
      "id": "57351228",
      "metadata": {
        "id": "57351228"
      },
      "source": [
        "8. What is the sum of SQ_FT of all entries in the dataset."
      ]
    },
    {
      "cell_type": "code",
      "execution_count": null,
      "id": "c0b23263",
      "metadata": {
        "id": "c0b23263",
        "outputId": "22e761a3-2c4d-4d30-df74-3aa77a891ce2"
      },
      "outputs": [
        {
          "data": {
            "text/plain": [
              "6375.0"
            ]
          },
          "execution_count": 14,
          "metadata": {},
          "output_type": "execute_result"
        }
      ],
      "source": [
        "Sum_SQFT = df['SQ_FT'].sum()\n",
        "\n",
        "Sum_SQFT"
      ]
    },
    {
      "cell_type": "markdown",
      "id": "49b14ba6",
      "metadata": {
        "id": "49b14ba6"
      },
      "source": [
        "9. Add a new column “NUM_STORE” and with all the values as 1 for all rows"
      ]
    },
    {
      "cell_type": "code",
      "execution_count": null,
      "id": "4d273802",
      "metadata": {
        "id": "4d273802",
        "outputId": "6d84ebab-6afc-449f-941c-aab162e17a26"
      },
      "outputs": [
        {
          "data": {
            "text/html": [
              "<div>\n",
              "<style scoped>\n",
              "    .dataframe tbody tr th:only-of-type {\n",
              "        vertical-align: middle;\n",
              "    }\n",
              "\n",
              "    .dataframe tbody tr th {\n",
              "        vertical-align: top;\n",
              "    }\n",
              "\n",
              "    .dataframe thead th {\n",
              "        text-align: right;\n",
              "    }\n",
              "</style>\n",
              "<table border=\"1\" class=\"dataframe\">\n",
              "  <thead>\n",
              "    <tr style=\"text-align: right;\">\n",
              "      <th></th>\n",
              "      <th>PID</th>\n",
              "      <th>STATE</th>\n",
              "      <th>PRICE</th>\n",
              "      <th>NUM_BEDROOMS</th>\n",
              "      <th>NUM_BATH</th>\n",
              "      <th>SQ_FT</th>\n",
              "      <th>NUM_STORE</th>\n",
              "    </tr>\n",
              "  </thead>\n",
              "  <tbody>\n",
              "    <tr>\n",
              "      <th>0</th>\n",
              "      <td>100001000.0</td>\n",
              "      <td>MP</td>\n",
              "      <td>321654</td>\n",
              "      <td>3</td>\n",
              "      <td>1.0</td>\n",
              "      <td>1000.0</td>\n",
              "      <td>1</td>\n",
              "    </tr>\n",
              "    <tr>\n",
              "      <th>1</th>\n",
              "      <td>100002000.0</td>\n",
              "      <td>MAHARASHTRA</td>\n",
              "      <td>21325</td>\n",
              "      <td>3</td>\n",
              "      <td>1.5</td>\n",
              "      <td>1062.5</td>\n",
              "      <td>1</td>\n",
              "    </tr>\n",
              "    <tr>\n",
              "      <th>3</th>\n",
              "      <td>100004000.0</td>\n",
              "      <td>TN</td>\n",
              "      <td>321321</td>\n",
              "      <td>1</td>\n",
              "      <td>1.5</td>\n",
              "      <td>700.0</td>\n",
              "      <td>1</td>\n",
              "    </tr>\n",
              "    <tr>\n",
              "      <th>4</th>\n",
              "      <td>NaN</td>\n",
              "      <td>TN</td>\n",
              "      <td>589465645</td>\n",
              "      <td>3</td>\n",
              "      <td>2.0</td>\n",
              "      <td>1600.0</td>\n",
              "      <td>1</td>\n",
              "    </tr>\n",
              "    <tr>\n",
              "      <th>6</th>\n",
              "      <td>100007000.0</td>\n",
              "      <td>ASSAM</td>\n",
              "      <td>3222321</td>\n",
              "      <td>2</td>\n",
              "      <td>2.0</td>\n",
              "      <td>950.0</td>\n",
              "      <td>1</td>\n",
              "    </tr>\n",
              "    <tr>\n",
              "      <th>7</th>\n",
              "      <td>100008000.0</td>\n",
              "      <td>HP</td>\n",
              "      <td>23131</td>\n",
              "      <td>1</td>\n",
              "      <td>1.0</td>\n",
              "      <td>1062.5</td>\n",
              "      <td>1</td>\n",
              "    </tr>\n",
              "  </tbody>\n",
              "</table>\n",
              "</div>"
            ],
            "text/plain": [
              "           PID        STATE      PRICE NUM_BEDROOMS  NUM_BATH   SQ_FT  \\\n",
              "0  100001000.0           MP     321654            3       1.0  1000.0   \n",
              "1  100002000.0  MAHARASHTRA      21325            3       1.5  1062.5   \n",
              "3  100004000.0           TN     321321            1       1.5   700.0   \n",
              "4          NaN           TN  589465645            3       2.0  1600.0   \n",
              "6  100007000.0        ASSAM    3222321            2       2.0   950.0   \n",
              "7  100008000.0           HP      23131            1       1.0  1062.5   \n",
              "\n",
              "   NUM_STORE  \n",
              "0          1  \n",
              "1          1  \n",
              "3          1  \n",
              "4          1  \n",
              "6          1  \n",
              "7          1  "
            ]
          },
          "execution_count": 15,
          "metadata": {},
          "output_type": "execute_result"
        }
      ],
      "source": [
        "df['NUM_STORE'] = 1\n",
        "\n",
        "df"
      ]
    },
    {
      "cell_type": "markdown",
      "id": "fb707703",
      "metadata": {
        "id": "fb707703"
      },
      "source": [
        "10. Create a DataFrame containing all entries of TN state only"
      ]
    },
    {
      "cell_type": "code",
      "execution_count": null,
      "id": "2115ecc7",
      "metadata": {
        "id": "2115ecc7",
        "outputId": "b572cc3b-5ae4-4413-ff31-d0202797ceae"
      },
      "outputs": [
        {
          "data": {
            "text/html": [
              "<div>\n",
              "<style scoped>\n",
              "    .dataframe tbody tr th:only-of-type {\n",
              "        vertical-align: middle;\n",
              "    }\n",
              "\n",
              "    .dataframe tbody tr th {\n",
              "        vertical-align: top;\n",
              "    }\n",
              "\n",
              "    .dataframe thead th {\n",
              "        text-align: right;\n",
              "    }\n",
              "</style>\n",
              "<table border=\"1\" class=\"dataframe\">\n",
              "  <thead>\n",
              "    <tr style=\"text-align: right;\">\n",
              "      <th></th>\n",
              "      <th>PID</th>\n",
              "      <th>STATE</th>\n",
              "      <th>PRICE</th>\n",
              "      <th>NUM_BEDROOMS</th>\n",
              "      <th>NUM_BATH</th>\n",
              "      <th>SQ_FT</th>\n",
              "      <th>NUM_STORE</th>\n",
              "    </tr>\n",
              "  </thead>\n",
              "  <tbody>\n",
              "    <tr>\n",
              "      <th>3</th>\n",
              "      <td>100004000.0</td>\n",
              "      <td>TN</td>\n",
              "      <td>321321</td>\n",
              "      <td>1</td>\n",
              "      <td>1.5</td>\n",
              "      <td>700.0</td>\n",
              "      <td>1</td>\n",
              "    </tr>\n",
              "    <tr>\n",
              "      <th>4</th>\n",
              "      <td>NaN</td>\n",
              "      <td>TN</td>\n",
              "      <td>589465645</td>\n",
              "      <td>3</td>\n",
              "      <td>2.0</td>\n",
              "      <td>1600.0</td>\n",
              "      <td>1</td>\n",
              "    </tr>\n",
              "  </tbody>\n",
              "</table>\n",
              "</div>"
            ],
            "text/plain": [
              "           PID STATE      PRICE NUM_BEDROOMS  NUM_BATH   SQ_FT  NUM_STORE\n",
              "3  100004000.0    TN     321321            1       1.5   700.0          1\n",
              "4          NaN    TN  589465645            3       2.0  1600.0          1"
            ]
          },
          "execution_count": 16,
          "metadata": {},
          "output_type": "execute_result"
        }
      ],
      "source": [
        "df_TN = df.loc[df.STATE=='TN',:]\n",
        "\n",
        "df_TN"
      ]
    },
    {
      "cell_type": "markdown",
      "id": "f721fbe2",
      "metadata": {
        "id": "f721fbe2"
      },
      "source": [
        "14. Create a DataFrame having SQ_FT area greater than 1000 and display the DataFrame"
      ]
    },
    {
      "cell_type": "code",
      "execution_count": null,
      "id": "6cbf6ab2",
      "metadata": {
        "id": "6cbf6ab2",
        "outputId": "b6c8cbdb-7320-41bb-b7b5-d9384838fa45"
      },
      "outputs": [
        {
          "data": {
            "text/html": [
              "<div>\n",
              "<style scoped>\n",
              "    .dataframe tbody tr th:only-of-type {\n",
              "        vertical-align: middle;\n",
              "    }\n",
              "\n",
              "    .dataframe tbody tr th {\n",
              "        vertical-align: top;\n",
              "    }\n",
              "\n",
              "    .dataframe thead th {\n",
              "        text-align: right;\n",
              "    }\n",
              "</style>\n",
              "<table border=\"1\" class=\"dataframe\">\n",
              "  <thead>\n",
              "    <tr style=\"text-align: right;\">\n",
              "      <th></th>\n",
              "      <th>PID</th>\n",
              "      <th>STATE</th>\n",
              "      <th>PRICE</th>\n",
              "      <th>NUM_BEDROOMS</th>\n",
              "      <th>NUM_BATH</th>\n",
              "      <th>SQ_FT</th>\n",
              "      <th>NUM_STORE</th>\n",
              "    </tr>\n",
              "  </thead>\n",
              "  <tbody>\n",
              "    <tr>\n",
              "      <th>1</th>\n",
              "      <td>100002000.0</td>\n",
              "      <td>MAHARASHTRA</td>\n",
              "      <td>21325</td>\n",
              "      <td>3</td>\n",
              "      <td>1.5</td>\n",
              "      <td>1062.5</td>\n",
              "      <td>1</td>\n",
              "    </tr>\n",
              "    <tr>\n",
              "      <th>4</th>\n",
              "      <td>NaN</td>\n",
              "      <td>TN</td>\n",
              "      <td>589465645</td>\n",
              "      <td>3</td>\n",
              "      <td>2.0</td>\n",
              "      <td>1600.0</td>\n",
              "      <td>1</td>\n",
              "    </tr>\n",
              "    <tr>\n",
              "      <th>7</th>\n",
              "      <td>100008000.0</td>\n",
              "      <td>HP</td>\n",
              "      <td>23131</td>\n",
              "      <td>1</td>\n",
              "      <td>1.0</td>\n",
              "      <td>1062.5</td>\n",
              "      <td>1</td>\n",
              "    </tr>\n",
              "  </tbody>\n",
              "</table>\n",
              "</div>"
            ],
            "text/plain": [
              "           PID        STATE      PRICE NUM_BEDROOMS  NUM_BATH   SQ_FT  \\\n",
              "1  100002000.0  MAHARASHTRA      21325            3       1.5  1062.5   \n",
              "4          NaN           TN  589465645            3       2.0  1600.0   \n",
              "7  100008000.0           HP      23131            1       1.0  1062.5   \n",
              "\n",
              "   NUM_STORE  \n",
              "1          1  \n",
              "4          1  \n",
              "7          1  "
            ]
          },
          "execution_count": 17,
          "metadata": {},
          "output_type": "execute_result"
        }
      ],
      "source": [
        "df_SQFT = df.loc[df.SQ_FT>1000,:]\n",
        "\n",
        "df_SQFT"
      ]
    },
    {
      "cell_type": "markdown",
      "id": "185b4229",
      "metadata": {
        "id": "185b4229"
      },
      "source": [
        "15. Create a DataFrame having only first Three columns and First Three rows"
      ]
    },
    {
      "cell_type": "code",
      "execution_count": null,
      "id": "37261673",
      "metadata": {
        "id": "37261673",
        "outputId": "572bb4ed-4e73-4117-f7e9-0ae73f5e94e0"
      },
      "outputs": [
        {
          "data": {
            "text/html": [
              "<div>\n",
              "<style scoped>\n",
              "    .dataframe tbody tr th:only-of-type {\n",
              "        vertical-align: middle;\n",
              "    }\n",
              "\n",
              "    .dataframe tbody tr th {\n",
              "        vertical-align: top;\n",
              "    }\n",
              "\n",
              "    .dataframe thead th {\n",
              "        text-align: right;\n",
              "    }\n",
              "</style>\n",
              "<table border=\"1\" class=\"dataframe\">\n",
              "  <thead>\n",
              "    <tr style=\"text-align: right;\">\n",
              "      <th></th>\n",
              "      <th>PID</th>\n",
              "      <th>STATE</th>\n",
              "      <th>PRICE</th>\n",
              "    </tr>\n",
              "  </thead>\n",
              "  <tbody>\n",
              "    <tr>\n",
              "      <th>0</th>\n",
              "      <td>100001000.0</td>\n",
              "      <td>MP</td>\n",
              "      <td>321654</td>\n",
              "    </tr>\n",
              "    <tr>\n",
              "      <th>1</th>\n",
              "      <td>100002000.0</td>\n",
              "      <td>MAHARASHTRA</td>\n",
              "      <td>21325</td>\n",
              "    </tr>\n",
              "    <tr>\n",
              "      <th>3</th>\n",
              "      <td>100004000.0</td>\n",
              "      <td>TN</td>\n",
              "      <td>321321</td>\n",
              "    </tr>\n",
              "  </tbody>\n",
              "</table>\n",
              "</div>"
            ],
            "text/plain": [
              "           PID        STATE   PRICE\n",
              "0  100001000.0           MP  321654\n",
              "1  100002000.0  MAHARASHTRA   21325\n",
              "3  100004000.0           TN  321321"
            ]
          },
          "execution_count": 18,
          "metadata": {},
          "output_type": "execute_result"
        }
      ],
      "source": [
        "df_3col_3row= df.iloc[:3,:3]\n",
        "\n",
        "\n",
        "df_3col_3row"
      ]
    },
    {
      "cell_type": "markdown",
      "id": "abfd7ffa",
      "metadata": {
        "id": "abfd7ffa"
      },
      "source": [
        "16. Display the state having highest average price per square foot of housing area."
      ]
    },
    {
      "cell_type": "code",
      "execution_count": null,
      "id": "b0afea6e",
      "metadata": {
        "id": "b0afea6e",
        "outputId": "06472450-935a-4be3-f627-7cb7dec4e7e8"
      },
      "outputs": [
        {
          "data": {
            "text/plain": [
              "368416.028125"
            ]
          },
          "execution_count": 30,
          "metadata": {},
          "output_type": "execute_result"
        }
      ],
      "source": [
        "df['Avg_price_per_sqft']=df['PRICE'] / df['SQ_FT']\n",
        "\n",
        "Highest_Avg_price_per_sqft = Avg_price_per_sqft.max()\n",
        "\n",
        "Highest_Avg_price_per_sqft"
      ]
    },
    {
      "cell_type": "code",
      "execution_count": null,
      "id": "0a9494c8",
      "metadata": {
        "id": "0a9494c8",
        "outputId": "c02a8bee-43ec-4b77-84ea-ab76a0e8c399"
      },
      "outputs": [
        {
          "data": {
            "text/html": [
              "<div>\n",
              "<style scoped>\n",
              "    .dataframe tbody tr th:only-of-type {\n",
              "        vertical-align: middle;\n",
              "    }\n",
              "\n",
              "    .dataframe tbody tr th {\n",
              "        vertical-align: top;\n",
              "    }\n",
              "\n",
              "    .dataframe thead th {\n",
              "        text-align: right;\n",
              "    }\n",
              "</style>\n",
              "<table border=\"1\" class=\"dataframe\">\n",
              "  <thead>\n",
              "    <tr style=\"text-align: right;\">\n",
              "      <th></th>\n",
              "      <th>PID</th>\n",
              "      <th>STATE</th>\n",
              "      <th>PRICE</th>\n",
              "      <th>NUM_BEDROOMS</th>\n",
              "      <th>NUM_BATH</th>\n",
              "      <th>SQ_FT</th>\n",
              "      <th>NUM_STORE</th>\n",
              "      <th>Avg_price_per_sqft</th>\n",
              "    </tr>\n",
              "  </thead>\n",
              "  <tbody>\n",
              "    <tr>\n",
              "      <th>0</th>\n",
              "      <td>NaN</td>\n",
              "      <td>TN</td>\n",
              "      <td>589465645</td>\n",
              "      <td>3</td>\n",
              "      <td>2.0</td>\n",
              "      <td>1600.0</td>\n",
              "      <td>1</td>\n",
              "      <td>368416.028125</td>\n",
              "    </tr>\n",
              "    <tr>\n",
              "      <th>1</th>\n",
              "      <td>100007000.0</td>\n",
              "      <td>ASSAM</td>\n",
              "      <td>3222321</td>\n",
              "      <td>2</td>\n",
              "      <td>2.0</td>\n",
              "      <td>950.0</td>\n",
              "      <td>1</td>\n",
              "      <td>3391.916842</td>\n",
              "    </tr>\n",
              "    <tr>\n",
              "      <th>2</th>\n",
              "      <td>100004000.0</td>\n",
              "      <td>TN</td>\n",
              "      <td>321321</td>\n",
              "      <td>1</td>\n",
              "      <td>1.5</td>\n",
              "      <td>700.0</td>\n",
              "      <td>1</td>\n",
              "      <td>459.030000</td>\n",
              "    </tr>\n",
              "    <tr>\n",
              "      <th>3</th>\n",
              "      <td>100001000.0</td>\n",
              "      <td>MP</td>\n",
              "      <td>321654</td>\n",
              "      <td>3</td>\n",
              "      <td>1.0</td>\n",
              "      <td>1000.0</td>\n",
              "      <td>1</td>\n",
              "      <td>321.654000</td>\n",
              "    </tr>\n",
              "    <tr>\n",
              "      <th>4</th>\n",
              "      <td>100008000.0</td>\n",
              "      <td>HP</td>\n",
              "      <td>23131</td>\n",
              "      <td>1</td>\n",
              "      <td>1.0</td>\n",
              "      <td>1062.5</td>\n",
              "      <td>1</td>\n",
              "      <td>21.770353</td>\n",
              "    </tr>\n",
              "    <tr>\n",
              "      <th>5</th>\n",
              "      <td>100002000.0</td>\n",
              "      <td>MAHARASHTRA</td>\n",
              "      <td>21325</td>\n",
              "      <td>3</td>\n",
              "      <td>1.5</td>\n",
              "      <td>1062.5</td>\n",
              "      <td>1</td>\n",
              "      <td>20.070588</td>\n",
              "    </tr>\n",
              "  </tbody>\n",
              "</table>\n",
              "</div>"
            ],
            "text/plain": [
              "           PID        STATE      PRICE NUM_BEDROOMS  NUM_BATH   SQ_FT  \\\n",
              "0          NaN           TN  589465645            3       2.0  1600.0   \n",
              "1  100007000.0        ASSAM    3222321            2       2.0   950.0   \n",
              "2  100004000.0           TN     321321            1       1.5   700.0   \n",
              "3  100001000.0           MP     321654            3       1.0  1000.0   \n",
              "4  100008000.0           HP      23131            1       1.0  1062.5   \n",
              "5  100002000.0  MAHARASHTRA      21325            3       1.5  1062.5   \n",
              "\n",
              "   NUM_STORE  Avg_price_per_sqft  \n",
              "0          1       368416.028125  \n",
              "1          1         3391.916842  \n",
              "2          1          459.030000  \n",
              "3          1          321.654000  \n",
              "4          1           21.770353  \n",
              "5          1           20.070588  "
            ]
          },
          "execution_count": 31,
          "metadata": {},
          "output_type": "execute_result"
        }
      ],
      "source": [
        "df= df.sort_values(by='Avg_price_per_sqft', ascending=False)\n",
        "df"
      ]
    },
    {
      "cell_type": "code",
      "execution_count": null,
      "id": "8650d244",
      "metadata": {
        "id": "8650d244"
      },
      "outputs": [],
      "source": [
        "df.reset_index(inplace=True, drop=True)"
      ]
    },
    {
      "cell_type": "code",
      "execution_count": null,
      "id": "f139bba3",
      "metadata": {
        "id": "f139bba3",
        "outputId": "49486d2d-fc83-42fc-eaef-820091538232"
      },
      "outputs": [
        {
          "data": {
            "text/plain": [
              "'TN'"
            ]
          },
          "execution_count": 33,
          "metadata": {},
          "output_type": "execute_result"
        }
      ],
      "source": [
        "df.loc[0,'STATE']"
      ]
    }
  ],
  "metadata": {
    "kernelspec": {
      "display_name": "Python 3 (ipykernel)",
      "language": "python",
      "name": "python3"
    },
    "language_info": {
      "codemirror_mode": {
        "name": "ipython",
        "version": 3
      },
      "file_extension": ".py",
      "mimetype": "text/x-python",
      "name": "python",
      "nbconvert_exporter": "python",
      "pygments_lexer": "ipython3",
      "version": "3.9.12"
    },
    "colab": {
      "provenance": []
    }
  },
  "nbformat": 4,
  "nbformat_minor": 5
}